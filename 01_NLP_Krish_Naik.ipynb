{
  "nbformat": 4,
  "nbformat_minor": 0,
  "metadata": {
    "colab": {
      "provenance": []
    },
    "kernelspec": {
      "name": "python3",
      "display_name": "Python 3"
    },
    "language_info": {
      "name": "python"
    }
  },
  "cells": [
    {
      "cell_type": "code",
      "execution_count": 2,
      "metadata": {
        "colab": {
          "base_uri": "https://localhost:8080/"
        },
        "id": "TFf9bDexLTg2",
        "outputId": "95f2cf19-d598-452b-ac16-baa4fc7988a3"
      },
      "outputs": [
        {
          "output_type": "stream",
          "name": "stdout",
          "text": [
            "Looking in indexes: https://pypi.org/simple, https://us-python.pkg.dev/colab-wheels/public/simple/\n",
            "Requirement already satisfied: nltk in /usr/local/lib/python3.10/dist-packages (3.8.1)\n",
            "Requirement already satisfied: click in /usr/local/lib/python3.10/dist-packages (from nltk) (8.1.3)\n",
            "Requirement already satisfied: joblib in /usr/local/lib/python3.10/dist-packages (from nltk) (1.2.0)\n",
            "Requirement already satisfied: regex>=2021.8.3 in /usr/local/lib/python3.10/dist-packages (from nltk) (2022.10.31)\n",
            "Requirement already satisfied: tqdm in /usr/local/lib/python3.10/dist-packages (from nltk) (4.65.0)\n"
          ]
        }
      ],
      "source": [
        "!pip install nltk"
      ]
    },
    {
      "cell_type": "code",
      "source": [
        "paragraph=\"\"\"\n",
        "Narendra Damodardas Modi (Gujarati: [ˈnəɾendɾə dɑmodəɾˈdɑs ˈmodiː] (listen); born 17 September 1950)[b] is an Indian politician who has served as the 14th Prime Minister of India since May 2014. Modi was Chief Minister of Gujarat from 2001 to 2014 and is the Member of Parliament (MP) for Varanasi. He is a member of the Bharatiya Janata Party (BJP) and of the right-wing Hindu nationalist paramilitary volunteer organisation Rashtriya Swayamsevak Sangh (RSS). He is the longest-serving non-Indian National Congress (INC; Congress) prime minister.\n",
        "\n",
        "Narendra Modi was born and raised in Vadnagar in north-eastern Gujarat, where he completed his secondary education. He was introduced to the RSS at age eight. At age 18, he was married to Jashodaben Modi, whom he abandoned soon after. Modi has said he had travelled in northern India for two years after leaving his parental home, visiting a number of religious centres. He returned to Gujarat in 1971 and became a full-time worker for the RSS. In 1975, after Prime Minister Indira Gandhi declared a state of emergency, Modi went into hiding. The RSS assigned him to the BJP in 1985 and he held several positions within the party hierarchy until 2001, rising to the rank of general secretary.[c]\n",
        "\"\"\""
      ],
      "metadata": {
        "id": "a68akYjENVWg"
      },
      "execution_count": 3,
      "outputs": []
    },
    {
      "cell_type": "code",
      "source": [
        "paragraph"
      ],
      "metadata": {
        "colab": {
          "base_uri": "https://localhost:8080/",
          "height": 244
        },
        "id": "Z2zXWpHEOCt8",
        "outputId": "bc6c9ef6-af55-4239-8df5-5cb86710e520"
      },
      "execution_count": 4,
      "outputs": [
        {
          "output_type": "execute_result",
          "data": {
            "text/plain": [
              "'\\nNarendra Damodardas Modi (Gujarati: [ˈnəɾendɾə dɑmodəɾˈdɑs ˈmodiː] (listen); born 17 September 1950)[b] is an Indian politician who has served as the 14th Prime Minister of India since May 2014. Modi was Chief Minister of Gujarat from 2001 to 2014 and is the Member of Parliament (MP) for Varanasi. He is a member of the Bharatiya Janata Party (BJP) and of the right-wing Hindu nationalist paramilitary volunteer organisation Rashtriya Swayamsevak Sangh (RSS). He is the longest-serving non-Indian National Congress (INC; Congress) prime minister.\\n\\nNarendra Modi was born and raised in Vadnagar in north-eastern Gujarat, where he completed his secondary education. He was introduced to the RSS at age eight. At age 18, he was married to Jashodaben Modi, whom he abandoned soon after. Modi has said he had travelled in northern India for two years after leaving his parental home, visiting a number of religious centres. He returned to Gujarat in 1971 and became a full-time worker for the RSS. In 1975, after Prime Minister Indira Gandhi declared a state of emergency, Modi went into hiding. The RSS assigned him to the BJP in 1985 and he held several positions within the party hierarchy until 2001, rising to the rank of general secretary.[c]\\n'"
            ],
            "application/vnd.google.colaboratory.intrinsic+json": {
              "type": "string"
            }
          },
          "metadata": {},
          "execution_count": 4
        }
      ]
    },
    {
      "cell_type": "code",
      "source": [
        "import nltk \n",
        "from nltk.stem import PorterStemmer\n",
        "from nltk.corpus import stopwords"
      ],
      "metadata": {
        "id": "tP5e6ZJAOJQ8"
      },
      "execution_count": 5,
      "outputs": []
    },
    {
      "cell_type": "code",
      "source": [
        "## tokenization-- converts paragraph into sentences words \n",
        "nltk.download('punkt')\n",
        "sentances = nltk.sent_tokenize(paragraph)"
      ],
      "metadata": {
        "colab": {
          "base_uri": "https://localhost:8080/"
        },
        "id": "ENqjurX_OdQV",
        "outputId": "45b7d660-efad-4d3f-e64e-07fdecf0c98d"
      },
      "execution_count": 6,
      "outputs": [
        {
          "output_type": "stream",
          "name": "stderr",
          "text": [
            "[nltk_data] Downloading package punkt to /root/nltk_data...\n",
            "[nltk_data]   Unzipping tokenizers/punkt.zip.\n"
          ]
        }
      ]
    },
    {
      "cell_type": "code",
      "source": [
        "print(sentances)"
      ],
      "metadata": {
        "colab": {
          "base_uri": "https://localhost:8080/"
        },
        "id": "qMAdTsxhO8aE",
        "outputId": "6cc9d6a7-6314-43ce-a582-5e035934f53b"
      },
      "execution_count": 7,
      "outputs": [
        {
          "output_type": "stream",
          "name": "stdout",
          "text": [
            "['\\nNarendra Damodardas Modi (Gujarati: [ˈnəɾendɾə dɑmodəɾˈdɑs ˈmodiː] (listen); born 17 September 1950)[b] is an Indian politician who has served as the 14th Prime Minister of India since May 2014.', 'Modi was Chief Minister of Gujarat from 2001 to 2014 and is the Member of Parliament (MP) for Varanasi.', 'He is a member of the Bharatiya Janata Party (BJP) and of the right-wing Hindu nationalist paramilitary volunteer organisation Rashtriya Swayamsevak Sangh (RSS).', 'He is the longest-serving non-Indian National Congress (INC; Congress) prime minister.', 'Narendra Modi was born and raised in Vadnagar in north-eastern Gujarat, where he completed his secondary education.', 'He was introduced to the RSS at age eight.', 'At age 18, he was married to Jashodaben Modi, whom he abandoned soon after.', 'Modi has said he had travelled in northern India for two years after leaving his parental home, visiting a number of religious centres.', 'He returned to Gujarat in 1971 and became a full-time worker for the RSS.', 'In 1975, after Prime Minister Indira Gandhi declared a state of emergency, Modi went into hiding.', 'The RSS assigned him to the BJP in 1985 and he held several positions within the party hierarchy until 2001, rising to the rank of general secretary.', '[c]']\n"
          ]
        }
      ]
    },
    {
      "cell_type": "code",
      "source": [
        "stemmer = PorterStemmer()"
      ],
      "metadata": {
        "id": "IvCcd2IVPCRm"
      },
      "execution_count": 9,
      "outputs": []
    },
    {
      "cell_type": "code",
      "source": [
        "stemmer.stem('history')"
      ],
      "metadata": {
        "colab": {
          "base_uri": "https://localhost:8080/",
          "height": 36
        },
        "id": "U7YOq2ZUP2jj",
        "outputId": "5605f9c9-ffb0-4faa-e9d4-f46f52cec2d2"
      },
      "execution_count": 12,
      "outputs": [
        {
          "output_type": "execute_result",
          "data": {
            "text/plain": [
              "'histori'"
            ],
            "application/vnd.google.colaboratory.intrinsic+json": {
              "type": "string"
            }
          },
          "metadata": {},
          "execution_count": 12
        }
      ]
    },
    {
      "cell_type": "code",
      "source": [
        "from nltk.stem import WordNetLemmatizer"
      ],
      "metadata": {
        "id": "jqrQzB6OPHYL"
      },
      "execution_count": 10,
      "outputs": []
    },
    {
      "cell_type": "code",
      "source": [
        "lemmatizer = WordNetLemmatizer()"
      ],
      "metadata": {
        "id": "YZokD2TJPvvO"
      },
      "execution_count": 26,
      "outputs": []
    },
    {
      "cell_type": "code",
      "source": [
        "import nltk\n",
        "nltk.download('wordnet')"
      ],
      "metadata": {
        "colab": {
          "base_uri": "https://localhost:8080/"
        },
        "id": "B-g35fe8QJAT",
        "outputId": "94454841-df8c-44ed-f760-4de659b0c4f1"
      },
      "execution_count": 16,
      "outputs": [
        {
          "output_type": "stream",
          "name": "stderr",
          "text": [
            "[nltk_data] Downloading package wordnet to /root/nltk_data...\n"
          ]
        },
        {
          "output_type": "execute_result",
          "data": {
            "text/plain": [
              "True"
            ]
          },
          "metadata": {},
          "execution_count": 16
        }
      ]
    },
    {
      "cell_type": "code",
      "source": [
        "lemmatizer.lemmatize('history')"
      ],
      "metadata": {
        "colab": {
          "base_uri": "https://localhost:8080/",
          "height": 36
        },
        "id": "Z1FZ3ceZP797",
        "outputId": "61a27ceb-53b5-4da6-bdfe-49db13868788"
      },
      "execution_count": 27,
      "outputs": [
        {
          "output_type": "execute_result",
          "data": {
            "text/plain": [
              "'history'"
            ],
            "application/vnd.google.colaboratory.intrinsic+json": {
              "type": "string"
            }
          },
          "metadata": {},
          "execution_count": 27
        }
      ]
    },
    {
      "cell_type": "code",
      "source": [
        "len(sentances)"
      ],
      "metadata": {
        "colab": {
          "base_uri": "https://localhost:8080/"
        },
        "id": "Hvk75FnYQrKY",
        "outputId": "6b1ea5ff-a31e-4ddc-c8a0-a75b82aa61d4"
      },
      "execution_count": 18,
      "outputs": [
        {
          "output_type": "execute_result",
          "data": {
            "text/plain": [
              "12"
            ]
          },
          "metadata": {},
          "execution_count": 18
        }
      ]
    },
    {
      "cell_type": "code",
      "source": [
        "import re \n",
        "corpus = []\n",
        "for i in range(len(sentances)):\n",
        "  review = re.sub('[^a-zA-Z]', ' ', sentances[i])\n",
        "  review =review.lower()\n",
        "  corpus.append(review)"
      ],
      "metadata": {
        "id": "C0PgcSruP7IE"
      },
      "execution_count": 19,
      "outputs": []
    },
    {
      "cell_type": "code",
      "source": [
        "corpus"
      ],
      "metadata": {
        "colab": {
          "base_uri": "https://localhost:8080/"
        },
        "id": "IbLDur0dRekP",
        "outputId": "2e4e9fa5-b35f-4f03-e8ef-954ef3d1a51d"
      },
      "execution_count": 20,
      "outputs": [
        {
          "output_type": "execute_result",
          "data": {
            "text/plain": [
              "[' narendra damodardas modi  gujarati    n  end   d mod   d s  modi    listen   born    september       b  is an indian politician who has served as the   th prime minister of india since may      ',\n",
              " 'modi was chief minister of gujarat from      to      and is the member of parliament  mp  for varanasi ',\n",
              " 'he is a member of the bharatiya janata party  bjp  and of the right wing hindu nationalist paramilitary volunteer organisation rashtriya swayamsevak sangh  rss  ',\n",
              " 'he is the longest serving non indian national congress  inc  congress  prime minister ',\n",
              " 'narendra modi was born and raised in vadnagar in north eastern gujarat  where he completed his secondary education ',\n",
              " 'he was introduced to the rss at age eight ',\n",
              " 'at age     he was married to jashodaben modi  whom he abandoned soon after ',\n",
              " 'modi has said he had travelled in northern india for two years after leaving his parental home  visiting a number of religious centres ',\n",
              " 'he returned to gujarat in      and became a full time worker for the rss ',\n",
              " 'in       after prime minister indira gandhi declared a state of emergency  modi went into hiding ',\n",
              " 'the rss assigned him to the bjp in      and he held several positions within the party hierarchy until       rising to the rank of general secretary ',\n",
              " ' c ']"
            ]
          },
          "metadata": {},
          "execution_count": 20
        }
      ]
    },
    {
      "cell_type": "code",
      "source": [
        "import nltk\n",
        "nltk.download('stopwords')"
      ],
      "metadata": {
        "colab": {
          "base_uri": "https://localhost:8080/"
        },
        "id": "XJPwah2nSsrf",
        "outputId": "260c109a-c7e3-4695-d682-0e12b4f32d65"
      },
      "execution_count": 22,
      "outputs": [
        {
          "output_type": "stream",
          "name": "stderr",
          "text": [
            "[nltk_data] Downloading package stopwords to /root/nltk_data...\n",
            "[nltk_data]   Unzipping corpora/stopwords.zip.\n"
          ]
        },
        {
          "output_type": "execute_result",
          "data": {
            "text/plain": [
              "True"
            ]
          },
          "metadata": {},
          "execution_count": 22
        }
      ]
    },
    {
      "cell_type": "code",
      "source": [
        "## stemming \n",
        "for i in corpus:\n",
        "  words = nltk.word_tokenize(i)\n",
        "  for word in words:\n",
        "    if word not in set(stopwords.words('english')):\n",
        "      print(stemmer.stem(word))\n",
        "    "
      ],
      "metadata": {
        "colab": {
          "base_uri": "https://localhost:8080/"
        },
        "id": "fd885B8BRlA3",
        "outputId": "3e864293-78e2-48de-ff4d-6daf84cbbd60"
      },
      "execution_count": 23,
      "outputs": [
        {
          "output_type": "stream",
          "name": "stdout",
          "text": [
            "narendra\n",
            "damodarda\n",
            "modi\n",
            "gujarati\n",
            "n\n",
            "end\n",
            "mod\n",
            "modi\n",
            "listen\n",
            "born\n",
            "septemb\n",
            "b\n",
            "indian\n",
            "politician\n",
            "serv\n",
            "th\n",
            "prime\n",
            "minist\n",
            "india\n",
            "sinc\n",
            "may\n",
            "modi\n",
            "chief\n",
            "minist\n",
            "gujarat\n",
            "member\n",
            "parliament\n",
            "mp\n",
            "varanasi\n",
            "member\n",
            "bharatiya\n",
            "janata\n",
            "parti\n",
            "bjp\n",
            "right\n",
            "wing\n",
            "hindu\n",
            "nationalist\n",
            "paramilitari\n",
            "volunt\n",
            "organis\n",
            "rashtriya\n",
            "swayamsevak\n",
            "sangh\n",
            "rss\n",
            "longest\n",
            "serv\n",
            "non\n",
            "indian\n",
            "nation\n",
            "congress\n",
            "inc\n",
            "congress\n",
            "prime\n",
            "minist\n",
            "narendra\n",
            "modi\n",
            "born\n",
            "rais\n",
            "vadnagar\n",
            "north\n",
            "eastern\n",
            "gujarat\n",
            "complet\n",
            "secondari\n",
            "educ\n",
            "introduc\n",
            "rss\n",
            "age\n",
            "eight\n",
            "age\n",
            "marri\n",
            "jashodaben\n",
            "modi\n",
            "abandon\n",
            "soon\n",
            "modi\n",
            "said\n",
            "travel\n",
            "northern\n",
            "india\n",
            "two\n",
            "year\n",
            "leav\n",
            "parent\n",
            "home\n",
            "visit\n",
            "number\n",
            "religi\n",
            "centr\n",
            "return\n",
            "gujarat\n",
            "becam\n",
            "full\n",
            "time\n",
            "worker\n",
            "rss\n",
            "prime\n",
            "minist\n",
            "indira\n",
            "gandhi\n",
            "declar\n",
            "state\n",
            "emerg\n",
            "modi\n",
            "went\n",
            "hide\n",
            "rss\n",
            "assign\n",
            "bjp\n",
            "held\n",
            "sever\n",
            "posit\n",
            "within\n",
            "parti\n",
            "hierarchi\n",
            "rise\n",
            "rank\n",
            "gener\n",
            "secretari\n",
            "c\n"
          ]
        }
      ]
    },
    {
      "cell_type": "code",
      "source": [
        "## Lemmatization\n",
        "## stemming \n",
        "for i in corpus:\n",
        "  words = nltk.word_tokenize(i)\n",
        "  for word in words:\n",
        "    if word not in set(stopwords.words('english')):\n",
        "      print(lemmatizer.lemmatize(word))"
      ],
      "metadata": {
        "colab": {
          "base_uri": "https://localhost:8080/"
        },
        "id": "uE6osS39TWbO",
        "outputId": "cce45e21-6ef1-4cc9-dba7-d833d0febff3"
      },
      "execution_count": 28,
      "outputs": [
        {
          "output_type": "stream",
          "name": "stdout",
          "text": [
            "narendra\n",
            "damodardas\n",
            "modi\n",
            "gujarati\n",
            "n\n",
            "end\n",
            "mod\n",
            "modi\n",
            "listen\n",
            "born\n",
            "september\n",
            "b\n",
            "indian\n",
            "politician\n",
            "served\n",
            "th\n",
            "prime\n",
            "minister\n",
            "india\n",
            "since\n",
            "may\n",
            "modi\n",
            "chief\n",
            "minister\n",
            "gujarat\n",
            "member\n",
            "parliament\n",
            "mp\n",
            "varanasi\n",
            "member\n",
            "bharatiya\n",
            "janata\n",
            "party\n",
            "bjp\n",
            "right\n",
            "wing\n",
            "hindu\n",
            "nationalist\n",
            "paramilitary\n",
            "volunteer\n",
            "organisation\n",
            "rashtriya\n",
            "swayamsevak\n",
            "sangh\n",
            "r\n",
            "longest\n",
            "serving\n",
            "non\n",
            "indian\n",
            "national\n",
            "congress\n",
            "inc\n",
            "congress\n",
            "prime\n",
            "minister\n",
            "narendra\n",
            "modi\n",
            "born\n",
            "raised\n",
            "vadnagar\n",
            "north\n",
            "eastern\n",
            "gujarat\n",
            "completed\n",
            "secondary\n",
            "education\n",
            "introduced\n",
            "r\n",
            "age\n",
            "eight\n",
            "age\n",
            "married\n",
            "jashodaben\n",
            "modi\n",
            "abandoned\n",
            "soon\n",
            "modi\n",
            "said\n",
            "travelled\n",
            "northern\n",
            "india\n",
            "two\n",
            "year\n",
            "leaving\n",
            "parental\n",
            "home\n",
            "visiting\n",
            "number\n",
            "religious\n",
            "centre\n",
            "returned\n",
            "gujarat\n",
            "became\n",
            "full\n",
            "time\n",
            "worker\n",
            "r\n",
            "prime\n",
            "minister\n",
            "indira\n",
            "gandhi\n",
            "declared\n",
            "state\n",
            "emergency\n",
            "modi\n",
            "went\n",
            "hiding\n",
            "r\n",
            "assigned\n",
            "bjp\n",
            "held\n",
            "several\n",
            "position\n",
            "within\n",
            "party\n",
            "hierarchy\n",
            "rising\n",
            "rank\n",
            "general\n",
            "secretary\n",
            "c\n"
          ]
        }
      ]
    },
    {
      "cell_type": "code",
      "source": [],
      "metadata": {
        "id": "Pvjoh_5XWlcA"
      },
      "execution_count": null,
      "outputs": []
    },
    {
      "cell_type": "code",
      "source": [
        "## Apply Stopwords. Lemmatize\n",
        "\n",
        "import re \n",
        "corpus = []\n",
        "for i in range(len(sentances)):\n",
        "  review = re.sub('[^a-zA-Z]', ' ', sentances[i])\n",
        "  review = review.lower()\n",
        "  review = review.split()\n",
        "  review = [lemmatizer.lemmatize(word) for word in review if not word in set(stopwords.words('english'))]\n",
        "  review = ' '.join(review)\n",
        "  corpus.append(review)\n"
      ],
      "metadata": {
        "id": "v09XSCBOVcI4"
      },
      "execution_count": 39,
      "outputs": []
    },
    {
      "cell_type": "code",
      "source": [],
      "metadata": {
        "id": "NLPS4P3CW4fm"
      },
      "execution_count": null,
      "outputs": []
    },
    {
      "cell_type": "code",
      "source": [
        "from sklearn.feature_extraction.text import CountVectorizer\n",
        "cv = CountVectorizer(binary=True)"
      ],
      "metadata": {
        "id": "kVIdLgk0T0ZB"
      },
      "execution_count": 40,
      "outputs": []
    },
    {
      "cell_type": "code",
      "source": [
        "X = cv.fit_transform(corpus)"
      ],
      "metadata": {
        "id": "YKWal3uWULSL"
      },
      "execution_count": 41,
      "outputs": []
    },
    {
      "cell_type": "code",
      "source": [
        "cv.vocabulary_"
      ],
      "metadata": {
        "colab": {
          "base_uri": "https://localhost:8080/"
        },
        "id": "Hrp1pep7UX-x",
        "outputId": "84a300d7-355e-496e-9144-7f13875ec112"
      },
      "execution_count": 42,
      "outputs": [
        {
          "output_type": "execute_result",
          "data": {
            "text/plain": [
              "{'narendra': 45,\n",
              " 'damodardas': 11,\n",
              " 'modi': 43,\n",
              " 'gujarati': 22,\n",
              " 'end': 17,\n",
              " 'mod': 42,\n",
              " 'listen': 36,\n",
              " 'born': 6,\n",
              " 'september': 71,\n",
              " 'indian': 30,\n",
              " 'politician': 57,\n",
              " 'served': 72,\n",
              " 'th': 79,\n",
              " 'prime': 59,\n",
              " 'minister': 41,\n",
              " 'india': 29,\n",
              " 'since': 75,\n",
              " 'may': 39,\n",
              " 'chief': 8,\n",
              " 'gujarat': 21,\n",
              " 'member': 40,\n",
              " 'parliament': 55,\n",
              " 'mp': 44,\n",
              " 'varanasi': 84,\n",
              " 'bharatiya': 4,\n",
              " 'janata': 33,\n",
              " 'party': 56,\n",
              " 'bjp': 5,\n",
              " 'right': 65,\n",
              " 'wing': 88,\n",
              " 'hindu': 26,\n",
              " 'nationalist': 47,\n",
              " 'paramilitary': 53,\n",
              " 'volunteer': 86,\n",
              " 'organisation': 52,\n",
              " 'rashtriya': 62,\n",
              " 'swayamsevak': 78,\n",
              " 'sangh': 68,\n",
              " 'longest': 37,\n",
              " 'serving': 73,\n",
              " 'non': 48,\n",
              " 'national': 46,\n",
              " 'congress': 10,\n",
              " 'inc': 28,\n",
              " 'raised': 60,\n",
              " 'vadnagar': 83,\n",
              " 'north': 49,\n",
              " 'eastern': 13,\n",
              " 'completed': 9,\n",
              " 'secondary': 69,\n",
              " 'education': 14,\n",
              " 'introduced': 32,\n",
              " 'age': 1,\n",
              " 'eight': 15,\n",
              " 'married': 38,\n",
              " 'jashodaben': 34,\n",
              " 'abandoned': 0,\n",
              " 'soon': 76,\n",
              " 'said': 67,\n",
              " 'travelled': 81,\n",
              " 'northern': 50,\n",
              " 'two': 82,\n",
              " 'year': 91,\n",
              " 'leaving': 35,\n",
              " 'parental': 54,\n",
              " 'home': 27,\n",
              " 'visiting': 85,\n",
              " 'number': 51,\n",
              " 'religious': 63,\n",
              " 'centre': 7,\n",
              " 'returned': 64,\n",
              " 'became': 3,\n",
              " 'full': 18,\n",
              " 'time': 80,\n",
              " 'worker': 90,\n",
              " 'indira': 31,\n",
              " 'gandhi': 19,\n",
              " 'declared': 12,\n",
              " 'state': 77,\n",
              " 'emergency': 16,\n",
              " 'went': 87,\n",
              " 'hiding': 24,\n",
              " 'assigned': 2,\n",
              " 'held': 23,\n",
              " 'several': 74,\n",
              " 'position': 58,\n",
              " 'within': 89,\n",
              " 'hierarchy': 25,\n",
              " 'rising': 66,\n",
              " 'rank': 61,\n",
              " 'general': 20,\n",
              " 'secretary': 70}"
            ]
          },
          "metadata": {},
          "execution_count": 42
        }
      ]
    },
    {
      "cell_type": "code",
      "source": [
        "corpus[0]"
      ],
      "metadata": {
        "colab": {
          "base_uri": "https://localhost:8080/",
          "height": 53
        },
        "id": "_mHIiIp-UhMz",
        "outputId": "e518f38f-a84a-42e1-f74f-f7a34b1b0064"
      },
      "execution_count": 43,
      "outputs": [
        {
          "output_type": "execute_result",
          "data": {
            "text/plain": [
              "'narendra damodardas modi gujarati n end mod modi listen born september b indian politician served th prime minister india since may'"
            ],
            "application/vnd.google.colaboratory.intrinsic+json": {
              "type": "string"
            }
          },
          "metadata": {},
          "execution_count": 43
        }
      ]
    },
    {
      "cell_type": "code",
      "source": [
        "X[0].toarray()"
      ],
      "metadata": {
        "colab": {
          "base_uri": "https://localhost:8080/"
        },
        "id": "7C8-sN_sUoUf",
        "outputId": "e486e0dc-9bfa-444a-c784-21882ed2e223"
      },
      "execution_count": 44,
      "outputs": [
        {
          "output_type": "execute_result",
          "data": {
            "text/plain": [
              "array([[0, 0, 0, 0, 0, 0, 1, 0, 0, 0, 0, 1, 0, 0, 0, 0, 0, 1, 0, 0, 0, 0,\n",
              "        1, 0, 0, 0, 0, 0, 0, 1, 1, 0, 0, 0, 0, 0, 1, 0, 0, 1, 0, 1, 1, 1,\n",
              "        0, 1, 0, 0, 0, 0, 0, 0, 0, 0, 0, 0, 0, 1, 0, 1, 0, 0, 0, 0, 0, 0,\n",
              "        0, 0, 0, 0, 0, 1, 1, 0, 0, 1, 0, 0, 0, 1, 0, 0, 0, 0, 0, 0, 0, 0,\n",
              "        0, 0, 0, 0]])"
            ]
          },
          "metadata": {},
          "execution_count": 44
        }
      ]
    }
  ]
}